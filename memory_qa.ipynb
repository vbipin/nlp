{
 "cells": [
  {
   "cell_type": "code",
   "execution_count": 1,
   "metadata": {},
   "outputs": [],
   "source": [
    "#implement transformer model in pytorch"
   ]
  },
  {
   "cell_type": "code",
   "execution_count": 2,
   "metadata": {},
   "outputs": [],
   "source": [
    "%matplotlib inline\n",
    "\n",
    "import matplotlib\n",
    "import numpy as np\n",
    "import matplotlib.pyplot as plt\n",
    "#for monitoring\n",
    "from time import time\n",
    "#for parsing the data filename\n",
    "import re"
   ]
  },
  {
   "cell_type": "code",
   "execution_count": 3,
   "metadata": {},
   "outputs": [],
   "source": [
    "from __future__ import unicode_literals, print_function, division\n",
    "from io import open\n",
    "import unicodedata\n",
    "import string\n",
    "import re\n",
    "import random\n",
    "\n",
    "import torch\n",
    "import torch.nn as nn\n",
    "from torch.autograd import Variable\n",
    "from torch import optim\n",
    "import torch.nn.functional as F\n",
    "\n",
    "use_cuda = torch.cuda.is_available()\n",
    "device = torch.device(\"cuda\" if torch.cuda.is_available() else \"cpu\")"
   ]
  },
  {
   "cell_type": "code",
   "execution_count": 4,
   "metadata": {},
   "outputs": [],
   "source": [
    "# We create words from the set { 10,11,..99}\n",
    "# Each word has a type {10,11,..19} are of type 1, and {20,21...29} are of type 2 etc\n",
    "# 0 is the type for unknown\n",
    "\n",
    "#we let the model remember a random sequence of words eg [ 23, 45, 56, 99, 11, 25 ]\n",
    "#then we query with a type eg: 4 and the model should give out the first word of that type. here 45\n"
   ]
  },
  {
   "cell_type": "code",
   "execution_count": 5,
   "metadata": {},
   "outputs": [],
   "source": [
    "#Model has two parts\n",
    "#1. An encoder that takes in the random input sequence to remember\n",
    "#   it outputs a memory vector\n",
    "#2. A decoder that takes the memory vector and a type query\n",
    "#   it outputs the word of that type from memory; if none 0 os output"
   ]
  },
  {
   "cell_type": "code",
   "execution_count": 6,
   "metadata": {},
   "outputs": [],
   "source": [
    "#simpleEncoder is just a addition of word embeddings\n",
    "#simple Decoder is a two layer Fully Connected network with softmax output"
   ]
  },
  {
   "cell_type": "code",
   "execution_count": 7,
   "metadata": {},
   "outputs": [],
   "source": [
    "class Embedding(nn.Module) :\n",
    "    def __init__(self, src_vocab_size, enbedding_vector_size ):\n",
    "        super(Embedding, self).__init__()\n",
    "        self.enbedding_vector_size = enbedding_vector_size\n",
    "        self.embedding = nn.Embedding(src_vocab_size, self.enbedding_vector_size )\n",
    "        \n",
    "    def forward(self, input) :\n",
    "        \"\"\"input is of shape (batch, seq_length)\"\"\"\n",
    "        self.emb = self.embedding(input)\n",
    "        return self.emb #(batch.seq, emb)\n",
    "    \n",
    "    \n",
    "class EncoderSimple(nn.Module):\n",
    "    def __init__(self):\n",
    "        super(EncoderSimple, self).__init__()\n",
    "        \n",
    "    def forward(self, x ):\n",
    "        \"\"\"input is of shape (batch.seq, emb)\"\"\"\n",
    "        self.out = torch.sum(x,dim=1) #we sum over the sequence length\n",
    "        return self.out\n",
    "    \n",
    "    \n",
    "class EncoderRNN(nn.Module):\n",
    "    def __init__(self, src_vocab_size, hidden_size, num_layers=1 ):\n",
    "        super(EncoderRNN, self).__init__()\n",
    "        self.hidden_size = hidden_size\n",
    "        self.gru = nn.GRU(hidden_size, hidden_size, num_layers, batch_first=True)\n",
    "\n",
    "    def forward(self, input, hidden):\n",
    "        self.output, self.hidden = self.gru(input, hidden)\n",
    "        return self.output, self.hidden\n",
    "\n",
    "    def init_hidden(self):\n",
    "        result = torch.zeros(1, 1, self.hidden_size)   \n",
    "        return result \n",
    "    \n",
    "    \n",
    "class EncoderFFN(nn.Module) :\n",
    "    def __init__(self, sequence_length, d_model, d_hidden, d_out ):\n",
    "        super(EncoderFFN, self).__init__()\n",
    "        self.sequence_length = sequence_length\n",
    "        self.ffn = FFN( d_model*sequence_length, d_hidden, d_out )\n",
    "        \n",
    "    def forward( self, x ) :  #x (batch, seq, emb)\n",
    "        #we need to flaten it\n",
    "        x = x.view(x.shape[0], -1)\n",
    "        self.out = self.ffn(x)\n",
    "        return self.out"
   ]
  },
  {
   "cell_type": "code",
   "execution_count": null,
   "metadata": {},
   "outputs": [],
   "source": []
  },
  {
   "cell_type": "code",
   "execution_count": 8,
   "metadata": {},
   "outputs": [],
   "source": [
    "class FFN( nn.Module ) : #forward network    \n",
    "    def __init__( self, d_model, n_class, d_hidden ) :\n",
    "        super(FFN, self).__init__() \n",
    "        \n",
    "        self.w1 = nn.Linear( d_model,  d_hidden )\n",
    "        #there will be a relu inbetween\n",
    "        self.w2 = nn.Linear( d_hidden, n_class )\n",
    "\n",
    "    def forward( self, x ) :\n",
    "        \"\"\"\n",
    "        x  (batch, d_model)\n",
    "        output (batch, n_class)\n",
    "        \"\"\"\n",
    "        out = self.w2( F.relu( self.w1(x) ))\n",
    "        return out #(batch, n_class)\n",
    "        "
   ]
  },
  {
   "cell_type": "code",
   "execution_count": 9,
   "metadata": {},
   "outputs": [],
   "source": [
    "class MemorySimple( nn.Module ) :\n",
    "    def __init__( self, d_model=32, vocab_size=100, enbedding_vector_size=32, d_hidden=32 ) :\n",
    "        super(Memory, self).__init__()\n",
    "        \n",
    "        assert(d_model == enbedding_vector_size) #for simple encoder is just a sum\n",
    "        \n",
    "        self.embedding = Embedding( vocab_size, enbedding_vector_size )\n",
    "        #self.encoder   = EncoderSimple()\n",
    "        self.encoder   = EncoderRNN(vocab_size, enbedding_vector_size )\n",
    "        self.decoder   = FFN( d_model*2, vocab_size, d_hidden )\n",
    "        \n",
    "    def forward( self, input, query ) :\n",
    "        self.emb = self.embedding( input )\n",
    "        self.query = self.embedding( query ).squeeze(1)\n",
    "        \n",
    "        out, self.memory = self.encoder( self.emb, self.encoder.init_hidden() )\n",
    "        \n",
    "        self.merge = torch.cat( (self.memory.squeeze(1), self.query), dim=1 ) #cat the vectors together\n",
    "        \n",
    "        self.scores = self.decoder(self.merge)\n",
    "        \n",
    "        #self.out = F.softmax( self.scores, dim=1 )\n",
    "        \n",
    "        return self.scores\n",
    "\n",
    "class MemoryRNN_encout( nn.Module ) :\n",
    "    def __init__( self, d_model=32, vocab_size=100, enbedding_vector_size=32, d_hidden=32 ) :\n",
    "        super(Memory, self).__init__()\n",
    "        \n",
    "        assert(d_model == enbedding_vector_size) #for simple encoder is just a sum\n",
    "        \n",
    "        self.embedding = Embedding( vocab_size, enbedding_vector_size )\n",
    "        self.encoder   = EncoderRNN(vocab_size, enbedding_vector_size )\n",
    "        self.ln        = nn.LayerNorm(enbedding_vector_size)\n",
    "        self.decoder   = FFN( d_model*2, vocab_size, d_hidden )\n",
    "        \n",
    "    def forward( self, input, query ) :\n",
    "        self.emb = self.embedding( input )\n",
    "        self.query = self.embedding( query ).squeeze(1)\n",
    "        \n",
    "        self.enc_out, self.hidden = self.encoder( self.emb, torch.zeros(1, input.shape[0], self.encoder.hidden_size) )\n",
    "        \n",
    "        self.memory = self.ln( self.enc_out ) #self.enc_out #XXX check LN \n",
    "        \n",
    "        self.merge = torch.cat( (self.memory[:,-1,:], self.query), dim=1 ) #cat the vectors together\n",
    "        \n",
    "        self.scores = self.decoder(self.merge)\n",
    "        \n",
    "        #self.out = F.softmax( self.scores, dim=1 )\n",
    "        \n",
    "        return self.scores\n",
    "    \n",
    "#Best model    \n",
    "class MemoryRNN( nn.Module ) :\n",
    "    def __init__( self, d_model=32, vocab_size=100, enbedding_vector_size=32, d_hidden=32 ) :\n",
    "        super(Memory, self).__init__()\n",
    "        \n",
    "        assert(d_model == enbedding_vector_size) #for simple encoder is just a sum\n",
    "        \n",
    "        self.embedding = Embedding( vocab_size, enbedding_vector_size )\n",
    "        self.encoder   = EncoderRNN(vocab_size, enbedding_vector_size )\n",
    "        self.ln        = nn.LayerNorm(enbedding_vector_size)\n",
    "        self.decoder   = FFN( d_model*2, vocab_size, d_hidden )\n",
    "        \n",
    "    def forward( self, input, query ) :\n",
    "        self.emb = self.embedding( input )\n",
    "        self.query = self.embedding( query ).squeeze(1)\n",
    "        \n",
    "        self.enc_out, self.hidden = self.encoder( self.emb, torch.zeros(1, input.shape[0], self.encoder.hidden_size) )\n",
    "        \n",
    "        self.memory = self.ln( self.hidden )  \n",
    "        \n",
    "        self.merge = torch.cat( (self.memory[:,-1,:], self.query), dim=1 ) #cat the vectors together\n",
    "        \n",
    "        self.scores = self.decoder(self.merge)\n",
    "        \n",
    "        #self.out = F.softmax( self.scores, dim=1 )\n",
    "        \n",
    "        return self.scores\n",
    "    \n",
    "    \n",
    "def one_hot_vectors( vocab_size, enbedding_vector_size ) :\n",
    "    \"\"\"create one hot vectors of size enbedding_vector_size\n",
    "    Out put shape is (vocab, enb_size)\n",
    "    \"\"\"\n",
    "    \n",
    "class Memory( nn.Module ) :\n",
    "    def __init__( self, d_model=32, vocab_size=100, enbedding_vector_size=32, d_hidden=32 ) :\n",
    "        super(Memory, self).__init__()\n",
    "        \n",
    "        #assert(d_model == enbedding_vector_size) #for simple encoder is just a sum\n",
    "        \n",
    "        self.embedding = nn.Embedding( vocab_size, enbedding_vector_size)\n",
    "        \n",
    "        #XXX Just fix some random vectors\n",
    "        #w = torch.randn(vocab_size, enbedding_vector_size, requires_grad=False)\n",
    "        #self.embedding = nn.Embedding( vocab_size, enbedding_vector_size).from_pretrained(w)\n",
    "        \n",
    "        #assert(vocab_size==enbedding_vector_size)\n",
    "        #self.embedding = nn.Embedding( vocab_size, enbedding_vector_size).from_pretrained(torch.eye(vocab_size))\n",
    "        \n",
    "        self.encoder   = EncoderRNN(vocab_size, enbedding_vector_size )\n",
    "        self.ln        = nn.LayerNorm(enbedding_vector_size)\n",
    "        self.decoder   = FFN( d_model*2, vocab_size, d_hidden )\n",
    "        \n",
    "    def forward( self, input, query ) :\n",
    "        self.emb = self.embedding( input )\n",
    "        self.query = self.embedding( query ).squeeze(1)\n",
    "        \n",
    "        self.enc_out, self.hidden = self.encoder( self.emb, torch.zeros(1, input.shape[0], self.encoder.hidden_size).to(device) )\n",
    "        \n",
    "        self.memory = self.ln( self.hidden.squeeze(0) )  \n",
    "        \n",
    "        self.merge = torch.cat( (self.memory, self.query), dim=1 ) #cat the vectors together\n",
    "        \n",
    "        self.scores = self.decoder(self.merge)\n",
    "        \n",
    "        #self.out = F.softmax( self.scores, dim=1 )\n",
    "        \n",
    "        return self.scores\n",
    "    \n",
    "class MemoryFFN( nn.Module ) :\n",
    "    def __init__( self, d_model=32, vocab_size=100, enbedding_vector_size=32, d_hidden=32, sequence_length=8 ) :\n",
    "        super(Memory, self).__init__()\n",
    "        \n",
    "        assert(d_model == enbedding_vector_size) #for simple encoder is just a sum\n",
    "        \n",
    "        self.embedding = Embedding( vocab_size, enbedding_vector_size )\n",
    "        #self.encoder   = EncoderSimple()\n",
    "        self.encoder   = EncoderFFN( sequence_length, d_model, d_hidden, enbedding_vector_size )\n",
    "        self.ln        = nn.LayerNorm(enbedding_vector_size)\n",
    "        self.decoder   = FFN( d_model*2, vocab_size, d_hidden )\n",
    "        \n",
    "    def forward( self, input, query ) :\n",
    "        self.emb = self.embedding( input )\n",
    "        self.query = self.embedding( query ).squeeze(1)\n",
    "        \n",
    "        self.enc_out = self.encoder( self.emb ) #(batch,1,emb)\n",
    "        \n",
    "        self.memory = self.ln( self.enc_out )\n",
    "        \n",
    "        self.merge = torch.cat( (self.memory, self.query), dim=1 ) #cat the vectors together\n",
    "        \n",
    "        self.scores = self.decoder(self.merge)\n",
    "        \n",
    "        #self.out = F.softmax( self.scores, dim=1 )\n",
    "        \n",
    "        return self.scores"
   ]
  },
  {
   "cell_type": "code",
   "execution_count": 2183,
   "metadata": {},
   "outputs": [
    {
     "data": {
      "text/plain": [
       "(torch.Size([1, 50, 100]), torch.Size([1, 100]), torch.Size([1, 1, 100]))"
      ]
     },
     "execution_count": 2183,
     "metadata": {},
     "output_type": "execute_result"
    }
   ],
   "source": [
    "model.emb.shape, model.query.shape, model.hidden.shape"
   ]
  },
  {
   "cell_type": "code",
   "execution_count": 2184,
   "metadata": {},
   "outputs": [],
   "source": [
    "m = Memory(d_model=d_model, enbedding_vector_size=enbedding_vector_size, d_hidden=d_hidden )\n",
    "#i = m(x,q)"
   ]
  },
  {
   "cell_type": "code",
   "execution_count": 598,
   "metadata": {},
   "outputs": [],
   "source": [
    "vocab_size = 100\n",
    "enbedding_vector_size=32\n",
    "n_class=10\n",
    "d_model=32\n",
    "d_hidden=32\n",
    "model = Memory(d_model=d_model, enbedding_vector_size=enbedding_vector_size, d_hidden=d_hidden )"
   ]
  },
  {
   "cell_type": "code",
   "execution_count": 348,
   "metadata": {},
   "outputs": [
    {
     "data": {
      "text/plain": [
       "(torch.Size([1, 5]), torch.Size([1, 1]), torch.Size([1, 1]))"
      ]
     },
     "execution_count": 348,
     "metadata": {},
     "output_type": "execute_result"
    }
   ],
   "source": [
    "x = torch.tensor([23,45,67,78,34], dtype=torch.long).view(1,-1)\n",
    "q = torch.tensor([4], dtype=torch.long).view(1,-1)\n",
    "y = torch.tensor([45], dtype=torch.long).view(1,-1)\n",
    "x.shape, q.shape, y.shape"
   ]
  },
  {
   "cell_type": "code",
   "execution_count": 972,
   "metadata": {},
   "outputs": [
    {
     "name": "stdout",
     "output_type": "stream",
     "text": [
      "torch.Size([1, 8, 64])\n",
      "torch.Size([1, 64])\n"
     ]
    }
   ],
   "source": [
    "e = Embedding( vocab_size, enbedding_vector_size )\n",
    "r = EncoderFFN(8, d_model, d_hidden, enbedding_vector_size )\n",
    "i = e(x)\n",
    "print(i.shape)\n",
    "j = r(i)\n",
    "print(j.shape)"
   ]
  },
  {
   "cell_type": "code",
   "execution_count": 33,
   "metadata": {},
   "outputs": [
    {
     "data": {
      "text/plain": [
       "device(type='cuda')"
      ]
     },
     "execution_count": 33,
     "metadata": {},
     "output_type": "execute_result"
    }
   ],
   "source": [
    "device"
   ]
  },
  {
   "cell_type": "code",
   "execution_count": 349,
   "metadata": {},
   "outputs": [],
   "source": [
    "#trial run\n",
    "vocab_size = 100\n",
    "enbedding_vector_size=32\n",
    "n_class=10\n",
    "d_model=32\n",
    "d_hidden=32\n",
    "model = Memory(d_model=d_model, enbedding_vector_size=enbedding_vector_size, d_hidden=d_hidden )\n",
    "criterion = nn.CrossEntropyLoss()\n",
    "optimizer = optim.SGD( model.parameters(), lr=0.001)\n",
    "#s = model(x,q)\n",
    "#loss = criterion(s, y.squeeze(1))\n",
    "#loss.backward()\n",
    "#optimizer.step()"
   ]
  },
  {
   "cell_type": "code",
   "execution_count": 10,
   "metadata": {},
   "outputs": [],
   "source": [
    "def train(model, optimizer, criterion, train_iter ) :\n",
    "    start = time()\n",
    "    model.train()\n",
    "    \n",
    "    loss_db = []\n",
    "    for x, q, y in train_iter :\n",
    "        x = x.to(device) #(seq, batch)\n",
    "        y = y.to(device)\n",
    "        q = q.to(device)\n",
    "\n",
    "        \n",
    "        loss = 0\n",
    "        optimizer.zero_grad()\n",
    "        \n",
    "        #h = encoder.initHidden().to(device)\n",
    "        #h.detach_()\n",
    "        s = model(x,q)\n",
    "    \n",
    "        loss = criterion(s, y.squeeze(1) ) #y is of shape( batch,1) => just (batch)\n",
    "\n",
    "        loss.backward()\n",
    "        optimizer.step()\n",
    "        loss_db.append( float(loss) )\n",
    "                \n",
    "        \n",
    "        \n",
    "    end = time()\n",
    "    #print (end-start)\n",
    "    return loss_db"
   ]
  },
  {
   "cell_type": "code",
   "execution_count": 11,
   "metadata": {},
   "outputs": [],
   "source": [
    "class Data__() :\n",
    "    def __init__( self, n_class=9, n_elements=10, sequence_length=8 ) :\n",
    "        self.types  = range( 1, n_class+1 ) #class starts from 1, 0 is a special  class\n",
    "        self.groups = range( 10, (n_class*n_elements)+10 ) # we have n_class groups, STARTING FROM 10\n",
    "        self.sequence_length = sequence_length\n",
    "        self.n_class = n_class\n",
    "        self.n_elements = n_elements\n",
    "        \n",
    "    def is_type(self, i , t ) :\n",
    "        assert( t != 0 )\n",
    "        start = 10 + (self.n_elements * (t-1))\n",
    "        end = start + self.n_elements -1\n",
    "        #print(start,end)\n",
    "        \n",
    "        if  start <= i <= end :\n",
    "            return True\n",
    "        return False\n",
    "    \n",
    "    def find_type(self, seq, t ) :\n",
    "        for i in seq :\n",
    "            #print(i, seq)\n",
    "            if self.is_type( i, t ) :\n",
    "                return [i]\n",
    "        return [0] #not found\n",
    "    \n",
    "    def get_data(self, batch_size=1 ) :\n",
    "        seq = np.random.choice( self.groups, self.sequence_length )\n",
    "        q   = np.random.choice( self.types, 1 )\n",
    "        y   = self.find_type( seq, q ) \n",
    "        seq = torch.tensor( seq, dtype=torch.long ).view(batch_size,-1)\n",
    "        q = torch.tensor( q, dtype=torch.long ).view(batch_size,-1)\n",
    "        #print(y)\n",
    "        y = torch.tensor( y, dtype=torch.long ).view(batch_size,-1)\n",
    "        return seq, q, y\n",
    "\n",
    "            \n",
    "class DataWithBatch() :\n",
    "    def __init__( self, n_class=10, n_elements=10, sequence_length=8, repeat_types=False ) : #n_class is 1+ number of types\n",
    "        self.types  = np.arange(1, n_class)\n",
    "        self.values = np.arange(0, n_class * n_elements).reshape(n_class, n_elements)\n",
    "        self.sequence_length = sequence_length\n",
    "        self.n_class = n_class\n",
    "        self.n_elements = n_elements\n",
    "        self.replace = repeat_types #if true the types may be repeated in the sequence\n",
    "    \n",
    "    def get_data(self, batch_size=1 ) :\n",
    "        if batch_size == 1 :\n",
    "            return self.get_single_data()\n",
    "        \n",
    "        #not so efficient; XXX\n",
    "        batch_set = [ self.get_single_data() for _ in range(batch_size) ]\n",
    "        \n",
    "        sequence = torch.cat( [b[0] for b in batch_set ])\n",
    "        question = torch.cat( [b[1] for b in batch_set ])\n",
    "        answer   = torch.cat( [b[2] for b in batch_set ])\n",
    "        \n",
    "        return sequence, question, answer\n",
    "    \n",
    "    def get_single_data(self) :\n",
    "         #we choose a set of types\n",
    "        types = np.random.choice( self.types, self.sequence_length, replace=self.replace )\n",
    "        #make a sequence out of it\n",
    "        sequence = [ random.choice( self.values[t] ) for t in types ]\n",
    "        \n",
    "        #choose one of it as question\n",
    "        question = random.choice( types )\n",
    "        answer = [ sequence[ i ] for i, t in enumerate(types) if question == t ][0]\n",
    "\n",
    "        #convert to torch tensors.\n",
    "        sequence = torch.tensor( sequence, dtype=torch.long ).view(1,-1)\n",
    "        question = torch.tensor( question, dtype=torch.long ).view(1,-1)\n",
    "        #print(y)\n",
    "        answer = torch.tensor( answer, dtype=torch.long ).view(1,-1)\n",
    "        return sequence, question, answer\n",
    "    \n",
    "    def gen_iter( self, n_data=100, batch_size=1 ) :\n",
    "        for _ in range(n_data) :\n",
    "            yield self.get_data(batch_size=batch_size)"
   ]
  },
  {
   "cell_type": "code",
   "execution_count": 34,
   "metadata": {},
   "outputs": [],
   "source": [
    "class Data() :\n",
    "    def __init__( self, n_class=10, n_elements=10, sequence_length=8, repeat_types=False, sort=False, no_answer=False ) : #n_class is 1+ number of types\n",
    "        self.types  = np.arange(1, n_class)\n",
    "        self.values = np.arange(0, n_class * n_elements).reshape(n_class, n_elements)\n",
    "        self.sequence_length = sequence_length\n",
    "        self.n_class = n_class\n",
    "        self.n_elements = n_elements\n",
    "        self.replace = repeat_types #if true the types may be repeated in the sequence\n",
    "        self.sort = sort #sort the values in the sequence\n",
    "        self.no_answer = no_answer #if set, invalid types can also be a question. and answer will be 0\n",
    "    \n",
    "    def get_data(self, batch_size=1 ) :\n",
    "        if batch_size == 1 :\n",
    "            return self.get_single_data()\n",
    "        \n",
    "        #not so efficient; XXX\n",
    "        batch_set = [ self.get_single_data() for _ in range(batch_size) ]\n",
    "        \n",
    "        sequence = torch.cat( [b[0] for b in batch_set ])\n",
    "        question = torch.cat( [b[1] for b in batch_set ])\n",
    "        answer   = torch.cat( [b[2] for b in batch_set ])\n",
    "        \n",
    "        return sequence.to(device), question.to(device), answer.to(device)\n",
    "    \n",
    "    def get_single_data(self) :\n",
    "         #we choose a set of types\n",
    "        types = np.random.choice( self.types, self.sequence_length, replace=self.replace )\n",
    "        \n",
    "        \n",
    "        #Sort will force the query to choose the smallest value as answer.\n",
    "        if self.sort :\n",
    "            types = sorted( types )        \n",
    "            #make a sequence out of it\n",
    "            sequence = sorted( [ random.choice( self.values[t] ) for t in types ] )\n",
    "        else :\n",
    "            sequence = [ random.choice( self.values[t] ) for t in types ]\n",
    "        \n",
    "        \n",
    "        #if no_answer is set, we allow invalid types as questions.\n",
    "        if self.no_answer :\n",
    "            question = random.choice( self.types ) #all types\n",
    "            answer = [ sequence[ i ] for i, t in enumerate(types) if question == t ]\n",
    "            if not answer :\n",
    "                answer = 0\n",
    "            else :\n",
    "                answer = answer[-1] #last one\n",
    "                \n",
    "        else : #null answers are not allowed. There will always be some answer\n",
    "            #choose one of it as question\n",
    "            question = random.choice( types )\n",
    "            answer = [ sequence[ i ] for i, t in enumerate(types) if question == t ][-1] #last one\n",
    "            \n",
    "        #convert to torch tensors.\n",
    "        sequence = torch.tensor( sequence, dtype=torch.long ).view(1,-1)\n",
    "        question = torch.tensor( question, dtype=torch.long ).view(1,-1)\n",
    "        #print(y)\n",
    "        answer = torch.tensor( answer, dtype=torch.long ).view(1,-1)\n",
    "        return sequence.to(device), question.to(device), answer.to(device)\n",
    "    \n",
    "    def gen_iter( self, n_data=100, batch_size=1 ) :\n",
    "        for _ in range(n_data) :\n",
    "            yield self.get_data(batch_size=batch_size)\n",
    "            "
   ]
  },
  {
   "cell_type": "code",
   "execution_count": 35,
   "metadata": {},
   "outputs": [
    {
     "data": {
      "text/plain": [
       "(torch.Size([1, 8]), torch.Size([1, 1]), torch.Size([1, 1]))"
      ]
     },
     "execution_count": 35,
     "metadata": {},
     "output_type": "execute_result"
    }
   ],
   "source": [
    "d = Data(sequence_length=8, repeat_types=False, no_answer=True)\n",
    "s,q,a = d.get_data(batch_size=1)\n",
    "s.shape, q.shape, a.shape"
   ]
  },
  {
   "cell_type": "code",
   "execution_count": 36,
   "metadata": {},
   "outputs": [
    {
     "name": "stdout",
     "output_type": "stream",
     "text": [
      "tensor([[44, 73, 54, 14, 96, 27, 88, 62]], device='cuda:0') tensor([[3]], device='cuda:0') tensor([[0]], device='cuda:0')\n",
      "tensor([[91, 25, 11, 60, 50, 40, 79, 38]], device='cuda:0') tensor([[8]], device='cuda:0') tensor([[0]], device='cuda:0')\n"
     ]
    }
   ],
   "source": [
    "for _ in range(10) :\n",
    "    s,q,a = d.get_data(batch_size=1)\n",
    "    if a.item() == 0 :\n",
    "        print(s,q,a)"
   ]
  },
  {
   "cell_type": "code",
   "execution_count": 32,
   "metadata": {},
   "outputs": [
    {
     "name": "stdout",
     "output_type": "stream",
     "text": [
      "tensor([[90, 62, 32, 12, 53, 49, 79, 22]]) tensor([[1]]) tensor([[12]])\n"
     ]
    }
   ],
   "source": [
    "print(s,q,a)"
   ]
  },
  {
   "cell_type": "code",
   "execution_count": 822,
   "metadata": {},
   "outputs": [],
   "source": [
    "train_iter = list(d.gen_iter())"
   ]
  },
  {
   "cell_type": "code",
   "execution_count": 2175,
   "metadata": {},
   "outputs": [],
   "source": [
    "vocab_size = 100\n",
    "\n",
    "n_class=10\n",
    "enbedding_vector_size=100\n",
    "d_model=64\n",
    "d_hidden=64\n",
    "model = Memory(d_model=d_model, enbedding_vector_size=enbedding_vector_size, d_hidden=d_hidden )\n",
    "criterion = nn.CrossEntropyLoss()\n",
    "optimizer = optim.SGD( model.parameters(), lr=0.01)"
   ]
  },
  {
   "cell_type": "code",
   "execution_count": 361,
   "metadata": {},
   "outputs": [
    {
     "data": {
      "text/plain": [
       "torch.Size([1, 1, 32])"
      ]
     },
     "execution_count": 361,
     "metadata": {},
     "output_type": "execute_result"
    }
   ],
   "source": [
    "model.memory.shape"
   ]
  },
  {
   "cell_type": "code",
   "execution_count": 362,
   "metadata": {},
   "outputs": [
    {
     "data": {
      "text/plain": [
       "torch.Size([1, 32])"
      ]
     },
     "execution_count": 362,
     "metadata": {},
     "output_type": "execute_result"
    }
   ],
   "source": [
    "model.query.shape"
   ]
  },
  {
   "cell_type": "code",
   "execution_count": null,
   "metadata": {},
   "outputs": [],
   "source": []
  },
  {
   "cell_type": "code",
   "execution_count": 363,
   "metadata": {},
   "outputs": [
    {
     "name": "stdout",
     "output_type": "stream",
     "text": [
      "0.3288271427154541\n"
     ]
    }
   ],
   "source": [
    "\n",
    "l = train(model, optimizer, criterion, train_iter )"
   ]
  },
  {
   "cell_type": "code",
   "execution_count": 364,
   "metadata": {},
   "outputs": [
    {
     "data": {
      "text/plain": [
       "[<matplotlib.lines.Line2D at 0x7fab06395f98>]"
      ]
     },
     "execution_count": 364,
     "metadata": {},
     "output_type": "execute_result"
    },
    {
     "data": {
      "image/png": "[encoded data removed]",
      "text/plain": [
       "<Figure size 432x288 with 1 Axes>"
      ]
     },
     "metadata": {},
     "output_type": "display_data"
    }
   ],
   "source": [
    "plt.plot(l)"
   ]
  },
  {
   "cell_type": "code",
   "execution_count": 116,
   "metadata": {},
   "outputs": [],
   "source": [
    "#vocab_size = 100\n",
    "#n_class=10\n",
    "\n",
    "vocab_size = 200\n",
    "n_class=20\n",
    "\n",
    "d_model=32\n",
    "enbedding_vector_size=32 #XXX\n",
    "d_hidden=64\n",
    "\n",
    "model = Memory(d_model=d_model, vocab_size=vocab_size, enbedding_vector_size=enbedding_vector_size, d_hidden=d_hidden ).to(device)\n",
    "\n",
    "criterion = nn.CrossEntropyLoss()\n",
    "optimizer = optim.SGD( model.parameters(), lr=0.01 , momentum=0.9)"
   ]
  },
  {
   "cell_type": "code",
   "execution_count": 117,
   "metadata": {},
   "outputs": [
    {
     "name": "stdout",
     "output_type": "stream",
     "text": [
      "Memory(\n",
      "  (embedding): Embedding(200, 32)\n",
      "  (encoder): EncoderRNN(\n",
      "    (gru): GRU(32, 32, batch_first=True)\n",
      "  )\n",
      "  (ln): LayerNorm(torch.Size([32]), eps=1e-05, elementwise_affine=True)\n",
      "  (decoder): FFN(\n",
      "    (w1): Linear(in_features=64, out_features=64, bias=True)\n",
      "    (w2): Linear(in_features=64, out_features=200, bias=True)\n",
      "  )\n",
      ")\n"
     ]
    }
   ],
   "source": [
    "print(model)"
   ]
  },
  {
   "cell_type": "code",
   "execution_count": 121,
   "metadata": {},
   "outputs": [],
   "source": [
    "optimizer = optim.SGD( model.parameters(), lr=0.001, momentum=0.9)\n",
    "\n",
    "#data = Data(n_class=20, sequence_length=25, repeat_types=True, no_answer=True)\n",
    "#test_iter = list(data.gen_iter(n_data=1000))"
   ]
  },
  {
   "cell_type": "code",
   "execution_count": 122,
   "metadata": {},
   "outputs": [
    {
     "name": "stdout",
     "output_type": "stream",
     "text": [
      "0.705\n",
      "0.703\n",
      "0.715\n",
      "0.712\n",
      "0.728\n",
      "278.53428864479065\n"
     ]
    }
   ],
   "source": [
    "start = time()\n",
    "\n",
    "data = Data(n_class=20, sequence_length=25, repeat_types=True, no_answer=True)\n",
    "avg_loss = []\n",
    "for i in range(5) :\n",
    "    train_iter = list(data.gen_iter(n_data=10000, batch_size=16))\n",
    "    l = train(model, optimizer, criterion, train_iter )\n",
    "    m = np.mean(l)\n",
    "    #print(\"mean iteration loss\", m)\n",
    "    avg_loss.append( m )\n",
    "    print( test_accuracy(model, test_iter) )\n",
    "    \n",
    "end = time()\n",
    "print (end-start)"
   ]
  },
  {
   "cell_type": "code",
   "execution_count": 119,
   "metadata": {},
   "outputs": [
    {
     "data": {
      "text/plain": [
       "[<matplotlib.lines.Line2D at 0x7fab7c933ba8>]"
      ]
     },
     "execution_count": 119,
     "metadata": {},
     "output_type": "execute_result"
    },
    {
     "data": {
      "image/png": "[encoded data removed]",
      "text/plain": [
       "<Figure size 432x288 with 1 Axes>"
      ]
     },
     "metadata": {},
     "output_type": "display_data"
    }
   ],
   "source": [
    "plt.plot(avg_loss)"
   ]
  },
  {
   "cell_type": "code",
   "execution_count": 102,
   "metadata": {},
   "outputs": [
    {
     "name": "stdout",
     "output_type": "stream",
     "text": [
      "tensor([[ 75, 158, 120,  65, 170,  21, 170, 110, 116, 108, 125, 186,  16, 190,\n",
      "          73, 115,  93, 163, 110,  19,  71, 181,  11,  32, 107]],\n",
      "       device='cuda:0') tensor([[12]], device='cuda:0') tensor([[125]], device='cuda:0')\n"
     ]
    }
   ],
   "source": [
    "d = Data(n_class=20, sequence_length=18, repeat_types=False, no_answer=True)\n",
    "x,q,y = d.get_data()\n",
    "#x,q,y = test_iter[57]\n",
    "print (x,q,y)"
   ]
  },
  {
   "cell_type": "code",
   "execution_count": 103,
   "metadata": {},
   "outputs": [],
   "source": [
    "s = model(x,q)\n",
    "s = s.detach()\n",
    "if y == s[0].topk(1)[1] :\n",
    "    print(\"Correct\")"
   ]
  },
  {
   "cell_type": "code",
   "execution_count": 104,
   "metadata": {},
   "outputs": [
    {
     "data": {
      "text/plain": [
       "<matplotlib.collections.PathCollection at 0x7fab90168e80>"
      ]
     },
     "execution_count": 104,
     "metadata": {},
     "output_type": "execute_result"
    },
    {
     "data": {
      "image/png": "[encoded data removed]",
      "text/plain": [
       "<Figure size 432x288 with 1 Axes>"
      ]
     },
     "metadata": {},
     "output_type": "display_data"
    }
   ],
   "source": [
    "plt.plot(s[0].cpu().numpy())\n",
    "plt.scatter(x.cpu().numpy(), np.zeros(x.shape[1]))"
   ]
  },
  {
   "cell_type": "code",
   "execution_count": 105,
   "metadata": {},
   "outputs": [
    {
     "name": "stdout",
     "output_type": "stream",
     "text": [
      "tensor([[125]], device='cuda:0') tensor([124], device='cuda:0')\n"
     ]
    }
   ],
   "source": [
    "#print (x,q,y)\n",
    "print(y,s[0].topk(1)[1])"
   ]
  },
  {
   "cell_type": "code",
   "execution_count": 106,
   "metadata": {},
   "outputs": [
    {
     "data": {
      "text/plain": [
       "(tensor([51.6971, 47.8386, 47.6903, 47.2340, 44.0322, 41.2756, 38.9670, 37.4724,\n",
       "         36.0653, 17.1677], device='cuda:0'),\n",
       " tensor([124, 120, 122, 125, 121, 126, 128, 123, 129,   0], device='cuda:0'))"
      ]
     },
     "execution_count": 106,
     "metadata": {},
     "output_type": "execute_result"
    }
   ],
   "source": [
    "s[0].topk(10)"
   ]
  },
  {
   "cell_type": "code",
   "execution_count": 1541,
   "metadata": {},
   "outputs": [],
   "source": [
    "q = torch.tensor([7], dtype=torch.long)\n",
    "y = torch.tensor([75], dtype=torch.long)"
   ]
  },
  {
   "cell_type": "code",
   "execution_count": 2105,
   "metadata": {},
   "outputs": [],
   "source": [
    "d = Data(sequence_length=1000, repeat_types=True)\n",
    "for c in range(1000) :\n",
    "    x,q,y = d.get_data()\n",
    "    s = model(x,q)\n",
    "    s = s.detach()\n",
    "    \n",
    "    if y != s[0].topk(1)[1] :\n",
    "        plt.plot(s[0].numpy())\n",
    "        plt.scatter(x.numpy(), np.ones(x.shape[1]))\n",
    "        print(c)\n",
    "        break"
   ]
  },
  {
   "cell_type": "code",
   "execution_count": 2103,
   "metadata": {},
   "outputs": [
    {
     "name": "stdout",
     "output_type": "stream",
     "text": [
      "tensor([[37, 88, 13, 98, 30, 96, 88, 79, 94, 91, 88, 31, 17, 66, 59, 84, 53, 98,\n",
      "         58, 99, 70, 78, 69, 17, 59, 85, 71, 24, 44, 92, 71, 32, 88, 65, 98, 34,\n",
      "         62, 48, 56, 74, 68, 35, 93, 23, 94, 65, 38, 37, 59, 45, 50, 31, 64, 80,\n",
      "         68, 11, 94, 59, 25, 34, 62, 68, 20, 56, 69, 30, 81, 49, 85, 30, 97, 34,\n",
      "         64, 22, 22, 36, 53, 66, 93, 36, 93, 23, 40, 37, 27, 96, 48, 50, 22, 40,\n",
      "         57, 46, 35, 79, 19, 12, 93, 19, 17, 21]]) tensor([[2]])\n",
      "ans  [24, 23, 25, 20, 22, 22, 23, 27, 22, 21]\n",
      "pred 21\n",
      "tensor([21, 24, 26, 23, 79, 46, 22, 27, 29, 50])\n"
     ]
    }
   ],
   "source": [
    "#print (x,q)\n",
    "j = q.item()\n",
    "print(\"ans \", [ i for i in x[0].numpy() if j*10 <= i <= j*10 +9 ] )\n",
    "print(\"pred\", s[0].topk(1)[1].item())\n",
    "print(s[0].topk(10)[1])"
   ]
  },
  {
   "cell_type": "code",
   "execution_count": 2083,
   "metadata": {},
   "outputs": [
    {
     "data": {
      "text/plain": [
       "tensor([74, 78, 73, 68, 75, 76, 72, 71, 79, 70])"
      ]
     },
     "execution_count": 2083,
     "metadata": {},
     "output_type": "execute_result"
    }
   ],
   "source": [
    "s[0].topk(10)[1]"
   ]
  },
  {
   "cell_type": "code",
   "execution_count": null,
   "metadata": {},
   "outputs": [],
   "source": []
  },
  {
   "cell_type": "code",
   "execution_count": 97,
   "metadata": {},
   "outputs": [],
   "source": [
    "data = Data(n_class=20, sequence_length=25, repeat_types=True, no_answer=True)\n",
    "test_iter = list(data.gen_iter(n_data=1000))\n",
    "def test_accuracy(model, test_iter, debug_print=False) :\n",
    "    count = 0\n",
    "    n_data = 0\n",
    "    for x,q,y in test_iter :\n",
    "        x = x.to(device)\n",
    "        q = q.to(device)\n",
    "        y = y.to(device)\n",
    "        \n",
    "        s = model(x,q)\n",
    "        s = s.detach()\n",
    "        predicted = s[0].topk(1)[1].item()\n",
    "        if predicted == y.item() :\n",
    "            count += 1\n",
    "        else :\n",
    "            if debug_print :\n",
    "                print(x,q,y,predicted)\n",
    "        n_data += 1.0\n",
    "    return count/n_data"
   ]
  },
  {
   "cell_type": "code",
   "execution_count": 98,
   "metadata": {},
   "outputs": [
    {
     "data": {
      "text/plain": [
       "0.296"
      ]
     },
     "execution_count": 98,
     "metadata": {},
     "output_type": "execute_result"
    }
   ],
   "source": [
    "test_accuracy(model, test_iter, debug_print=False)"
   ]
  },
  {
   "cell_type": "code",
   "execution_count": 1973,
   "metadata": {},
   "outputs": [],
   "source": [
    "l = []\n",
    "for i in range(8,100) :\n",
    "    data = Data(sequence_length=i, repeat_types=True)\n",
    "    test_iter = list(data.gen_iter(n_data=100))\n",
    "    accuracy = test_accuracy(model, test_iter, debug_print=False)\n",
    "    l.append( accuracy )\n",
    "    #print(i, accuracy )"
   ]
  },
  {
   "cell_type": "code",
   "execution_count": 1974,
   "metadata": {},
   "outputs": [
    {
     "data": {
      "text/plain": [
       "[<matplotlib.lines.Line2D at 0x7faad6d62e10>]"
      ]
     },
     "execution_count": 1974,
     "metadata": {},
     "output_type": "execute_result"
    },
    {
     "data": {
      "image/png": "[encoded data removed]",
      "text/plain": [
       "<Figure size 432x288 with 1 Axes>"
      ]
     },
     "metadata": {},
     "output_type": "display_data"
    }
   ],
   "source": [
    "plt.plot(l)"
   ]
  },
  {
   "cell_type": "code",
   "execution_count": null,
   "metadata": {},
   "outputs": [],
   "source": []
  },
  {
   "cell_type": "code",
   "execution_count": null,
   "metadata": {},
   "outputs": [],
   "source": []
  },
  {
   "cell_type": "code",
   "execution_count": null,
   "metadata": {},
   "outputs": [],
   "source": []
  },
  {
   "cell_type": "code",
   "execution_count": 1028,
   "metadata": {},
   "outputs": [
    {
     "data": {
      "text/plain": [
       "<generator object Module.parameters at 0x7faaf4df7570>"
      ]
     },
     "execution_count": 1028,
     "metadata": {},
     "output_type": "execute_result"
    }
   ],
   "source": [
    "model.parameters()"
   ]
  },
  {
   "cell_type": "code",
   "execution_count": 70,
   "metadata": {},
   "outputs": [
    {
     "name": "stdout",
     "output_type": "stream",
     "text": [
      "Memory(\n",
      "  (embedding): Embedding(100, 32)\n",
      "  (encoder): EncoderRNN(\n",
      "    (gru): GRU(32, 32, batch_first=True)\n",
      "  )\n",
      "  (ln): LayerNorm(torch.Size([32]), eps=1e-05, elementwise_affine=True)\n",
      "  (decoder): FFN(\n",
      "    (w1): Linear(in_features=64, out_features=32, bias=True)\n",
      "    (w2): Linear(in_features=32, out_features=100, bias=True)\n",
      "  )\n",
      ")\n"
     ]
    }
   ],
   "source": [
    "print(model)"
   ]
  },
  {
   "cell_type": "code",
   "execution_count": 72,
   "metadata": {},
   "outputs": [],
   "source": [
    "w = model.embedding.weight.data.clone().cpu().numpy()"
   ]
  },
  {
   "cell_type": "code",
   "execution_count": 73,
   "metadata": {},
   "outputs": [
    {
     "data": {
      "text/plain": [
       "[<matplotlib.lines.Line2D at 0x7fab7cf61f98>]"
      ]
     },
     "execution_count": 73,
     "metadata": {},
     "output_type": "execute_result"
    },
    {
     "data": {
      "image/png": "[encoded data removed]",
      "text/plain": [
       "<Figure size 432x288 with 1 Axes>"
      ]
     },
     "metadata": {},
     "output_type": "display_data"
    }
   ],
   "source": [
    "plt.plot(w[:][76])"
   ]
  },
  {
   "cell_type": "code",
   "execution_count": 74,
   "metadata": {},
   "outputs": [],
   "source": [
    "index = 77\n",
    "s = [ (np.dot(w[index,:], w[i,:])/(np.linalg.norm(w[index,:])*np.linalg.norm(w[i,:])), i) for i in range(100) ]"
   ]
  },
  {
   "cell_type": "code",
   "execution_count": 75,
   "metadata": {},
   "outputs": [
    {
     "data": {
      "text/plain": [
       "[(-0.3581399, 0),\n",
       " (-0.32853588, 84),\n",
       " (-0.30906513, 38),\n",
       " (-0.29597405, 96),\n",
       " (-0.25231612, 86),\n",
       " (-0.2329015, 51),\n",
       " (-0.22420971, 41),\n",
       " (-0.20024563, 68),\n",
       " (-0.19629252, 55),\n",
       " (-0.19485566, 87),\n",
       " (-0.19214684, 31),\n",
       " (-0.18592827, 53),\n",
       " (-0.17766318, 65),\n",
       " (-0.1768761, 6),\n",
       " (-0.16880122, 33),\n",
       " (-0.15842922, 26),\n",
       " (-0.15078445, 85),\n",
       " (-0.1505511, 90),\n",
       " (-0.14515159, 67),\n",
       " (-0.14367667, 91),\n",
       " (-0.13799709, 83),\n",
       " (-0.13623235, 46),\n",
       " (-0.12101032, 66),\n",
       " (-0.11695313, 99),\n",
       " (-0.111498535, 45),\n",
       " (-0.11090777, 22),\n",
       " (-0.105421074, 44),\n",
       " (-0.103289075, 80),\n",
       " (-0.09672253, 20),\n",
       " (-0.09506165, 32),\n",
       " (-0.09431063, 89),\n",
       " (-0.086406365, 54),\n",
       " (-0.08446691, 13),\n",
       " (-0.08236803, 61),\n",
       " (-0.08052423, 48),\n",
       " (-0.07953244, 62),\n",
       " (-0.075221255, 56),\n",
       " (-0.07397235, 97),\n",
       " (-0.07328975, 69),\n",
       " (-0.06910045, 30),\n",
       " (-0.0690379, 52),\n",
       " (-0.067000955, 88),\n",
       " (-0.06671691, 64),\n",
       " (-0.06180029, 58),\n",
       " (-0.060441725, 21),\n",
       " (-0.06026764, 23),\n",
       " (-0.058737315, 98),\n",
       " (-0.035661604, 15),\n",
       " (-0.035210438, 24),\n",
       " (-0.03132054, 59),\n",
       " (-0.027636018, 1),\n",
       " (-0.026266094, 73),\n",
       " (-0.01882503, 50),\n",
       " (0.014467017, 16),\n",
       " (0.016419696, 78),\n",
       " (0.016964035, 60),\n",
       " (0.02033323, 12),\n",
       " (0.02124857, 7),\n",
       " (0.022845423, 4),\n",
       " (0.025086576, 94),\n",
       " (0.026856605, 75),\n",
       " (0.026946284, 42),\n",
       " (0.036156446, 11),\n",
       " (0.03764801, 34),\n",
       " (0.0421262, 49),\n",
       " (0.04802703, 92),\n",
       " (0.0499198, 14),\n",
       " (0.055977628, 2),\n",
       " (0.057121396, 25),\n",
       " (0.06417126, 17),\n",
       " (0.07022643, 37),\n",
       " (0.12533064, 81),\n",
       " (0.12779449, 63),\n",
       " (0.14780614, 70),\n",
       " (0.15867224, 8),\n",
       " (0.16481574, 3),\n",
       " (0.1675653, 19),\n",
       " (0.17489149, 27),\n",
       " (0.17656693, 40),\n",
       " (0.17833641, 47),\n",
       " (0.17846568, 57),\n",
       " (0.1805033, 82),\n",
       " (0.18082777, 36),\n",
       " (0.18788593, 18),\n",
       " (0.19469456, 39),\n",
       " (0.19759299, 72),\n",
       " (0.20602757, 10),\n",
       " (0.20960772, 28),\n",
       " (0.21196727, 71),\n",
       " (0.21201971, 95),\n",
       " (0.22165011, 76),\n",
       " (0.22639354, 35),\n",
       " (0.2648743, 9),\n",
       " (0.2703779, 5),\n",
       " (0.28107804, 93),\n",
       " (0.28580344, 43),\n",
       " (0.32539952, 29),\n",
       " (0.3625891, 74),\n",
       " (0.40661412, 79),\n",
       " (1.0, 77)]"
      ]
     },
     "execution_count": 75,
     "metadata": {},
     "output_type": "execute_result"
    }
   ],
   "source": [
    "sorted(s)"
   ]
  },
  {
   "cell_type": "code",
   "execution_count": 77,
   "metadata": {},
   "outputs": [
    {
     "data": {
      "text/plain": [
       "torch.Size([1, 1])"
      ]
     },
     "execution_count": 77,
     "metadata": {},
     "output_type": "execute_result"
    }
   ],
   "source": [
    "q.shape"
   ]
  },
  {
   "cell_type": "code",
   "execution_count": 78,
   "metadata": {},
   "outputs": [
    {
     "data": {
      "text/plain": [
       "tensor([[68]], device='cuda:0')"
      ]
     },
     "execution_count": 78,
     "metadata": {},
     "output_type": "execute_result"
    }
   ],
   "source": [
    "a"
   ]
  },
  {
   "cell_type": "code",
   "execution_count": null,
   "metadata": {},
   "outputs": [],
   "source": []
  }
 ],
 "metadata": {
  "kernelspec": {
   "display_name": "Python 3",
   "language": "python",
   "name": "python3"
  },
  "language_info": {
   "codemirror_mode": {
    "name": "ipython",
    "version": 3
   },
   "file_extension": ".py",
   "mimetype": "text/x-python",
   "name": "python",
   "nbconvert_exporter": "python",
   "pygments_lexer": "ipython3",
   "version": "3.6.5"
  }
 },
 "nbformat": 4,
 "nbformat_minor": 2
}
