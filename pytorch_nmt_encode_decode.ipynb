{
 "cells": [
  {
   "cell_type": "code",
   "execution_count": 1,
   "metadata": {},
   "outputs": [],
   "source": [
    "%reload_ext autoreload\n",
    "%autoreload 2"
   ]
  },
  {
   "cell_type": "code",
   "execution_count": 2,
   "metadata": {},
   "outputs": [],
   "source": [
    "from __future__ import unicode_literals, print_function, division\n",
    "from io import open\n",
    "import unicodedata\n",
    "import string\n",
    "import re\n",
    "import random\n",
    "\n",
    "import torch\n",
    "import torch.nn as nn\n",
    "from torch.autograd import Variable\n",
    "from torch import optim\n",
    "import torch.nn.functional as F\n",
    "\n",
    "use_cuda = torch.cuda.is_available()\n",
    "device = torch.device(\"cuda\" if torch.cuda.is_available() else \"cpu\")"
   ]
  },
  {
   "cell_type": "code",
   "execution_count": 3,
   "metadata": {},
   "outputs": [],
   "source": [
    "%matplotlib inline\n",
    "\n",
    "import matplotlib\n",
    "import numpy as np\n",
    "import matplotlib.pyplot as plt\n",
    "#for monitoring\n",
    "from time import time\n",
    "#for parsing the data filename\n",
    "import re"
   ]
  },
  {
   "cell_type": "code",
   "execution_count": 4,
   "metadata": {},
   "outputs": [],
   "source": [
    "from multi30k_data import *\n",
    "from encoder_decoder import *"
   ]
  },
  {
   "cell_type": "code",
   "execution_count": 82,
   "metadata": {},
   "outputs": [],
   "source": [
    "import warnings"
   ]
  },
  {
   "cell_type": "code",
   "execution_count": null,
   "metadata": {},
   "outputs": [],
   "source": []
  },
  {
   "cell_type": "code",
   "execution_count": 5,
   "metadata": {},
   "outputs": [],
   "source": [
    "class EncodeDecodeRun :\n",
    "    def __init__(self, encoder, decoder) :\n",
    "        self.encoder = encoder\n",
    "        self.decoder = decoder\n",
    "        \n",
    "        #these values will be filled by the encoders.\n",
    "        self.g = None\n",
    "        self.attn_values = None\n",
    "        self.out = None\n",
    "        \n",
    "        if isinstance(encoder, EncoderSimple) :\n",
    "            self.run_encoder = self.run_simple_encoder\n",
    "        \n",
    "        if isinstance(encoder, EncoderRNN) :\n",
    "            self.run_encoder = self.run_rnn_encoder\n",
    "            \n",
    "        if isinstance(decoder, DecoderRNN) :\n",
    "            self.run_decoder = self.run_rnn_decoder\n",
    "            \n",
    "        if isinstance(decoder, AttnDecoderRNN) :\n",
    "            self.run_decoder = self.run_attn_decoder \n",
    "    \n",
    "    def run_simple_encoder(self, x ) :\n",
    "        self.out = self.encoder(x)\n",
    "        self.g = self.out.view(1,1,-1)\n",
    "        self.attn_values = self.encoder.embedded\n",
    "        \n",
    "        \n",
    "    def run_rnn_encoder(self, x ) :\n",
    "        self.g = self.encoder.init_hidden()\n",
    "        \n",
    "        self.out, self.g = self.encoder(x, self.g )\n",
    "        self.g.detach_()\n",
    "        self.attn_values = self.out\n",
    "        \n",
    "        \n",
    "    def run_rnn_decoder(self, yi ) :\n",
    "            #for i in range(1) :\n",
    "            scores, self.g = self.decoder( yi, self.g)\n",
    "            #print(scores.shape)\n",
    "            #print(next_word.shape)\n",
    "            return scores\n",
    "    \n",
    "    def run_attn_decoder(self, yi ) :\n",
    "        #self.attn_values is of shape (n,d)\n",
    "        #we need it as (MAX_LENGTH, d) witht he first n filled\n",
    "        max_length = self.decoder.max_length\n",
    "        values_to_attend = torch.zeros(max_length, self.decoder.hidden_size, device=device)\n",
    "        for i in range(self.attn_values.shape[0]) :\n",
    "            values_to_attend[i] = self.attn_values[i][0]\n",
    "                \n",
    "        scores, self.g, _ = decoder( yi, self.g, values_to_attend )\n",
    "        #print(scores.shape)\n",
    "        #print(next_word.shape)\n",
    "        return scores\n",
    "\n",
    "def train(encdecrun, encoder_optimizer, decoder_optimizer, criterion, train_iter ) :\n",
    "    start = time()\n",
    "    \n",
    "    loss_db = []\n",
    "    for x, y in train_iter :\n",
    "        x = x.to(device)\n",
    "        y = y.to(device)\n",
    "        loss = 0\n",
    "        encoder_optimizer.zero_grad()\n",
    "        decoder_optimizer.zero_grad()\n",
    "        \n",
    "        #h = encoder.initHidden().to(device)\n",
    "        #h.detach_()\n",
    "        encdecrun.run_encoder( x )\n",
    "    \n",
    "        #g = torch.sum( encoder_outputs, dim=0 ).view(1,1,-1)\n",
    "        \n",
    "        y = y.detach()\n",
    "        y_len = y.shape[0] #size of sequence\n",
    "        for i in range(y_len - 1) :\n",
    "            scores = encdecrun.run_decoder( y[i] )\n",
    "            loss += criterion(scores, y[i+1] )\n",
    "\n",
    "        loss.backward()\n",
    "        loss_db.append( float(loss) )\n",
    "                \n",
    "        encoder_optimizer.step()\n",
    "        decoder_optimizer.step()\n",
    "        \n",
    "    end = time()\n",
    "    print (end-start)\n",
    "    return loss_db"
   ]
  },
  {
   "cell_type": "code",
   "execution_count": null,
   "metadata": {},
   "outputs": [],
   "source": []
  },
  {
   "cell_type": "code",
   "execution_count": 6,
   "metadata": {},
   "outputs": [
    {
     "name": "stderr",
     "output_type": "stream",
     "text": [
      "/home/local/SPREADTRUM/bipin.vijayasenan/anaconda3/lib/python3.6/site-packages/torchtext/data/field.py:322: UserWarning: volatile was removed and now has no effect. Use `with torch.no_grad():` instead.\n",
      "  return Variable(arr, volatile=not train)\n"
     ]
    }
   ],
   "source": [
    "train_iter = multi30k_data.val_batch(device=device)\n",
    "x, y = next(train_iter)\n",
    "x = x.to(device)\n",
    "y = y.to(device)"
   ]
  },
  {
   "cell_type": "code",
   "execution_count": 8,
   "metadata": {},
   "outputs": [
    {
     "name": "stdout",
     "output_type": "stream",
     "text": [
      "EncoderSimple(\n",
      "  (embedding): Embedding(5499, 256)\n",
      ")\n",
      "DecoderRNN(\n",
      "  (embedding): Embedding(10839, 256)\n",
      "  (gru): GRU(256, 256)\n",
      "  (linear): Linear(in_features=256, out_features=10839, bias=True)\n",
      ")\n"
     ]
    }
   ],
   "source": [
    "hidden_size = 256\n",
    "#encoder = EncoderRNN(len(multi30k_data.src_lang.vocab), hidden_size).to(device)\n",
    "n_src_vocab = len(multi30k_data.src_lang.vocab)\n",
    "n_trg_vocab = len(multi30k_data.trg_lang.vocab)\n",
    "\n",
    "encoder = EncoderSimple(n_src_vocab, hidden_size).to(device)\n",
    "#encoder = EncoderRNN(n_src_vocab, hidden_size).to(device)\n",
    "\n",
    "decoder = DecoderRNN(hidden_size, n_trg_vocab).to(device)\n",
    "\n",
    "#decoder = AttnDecoderRNN(hidden_size, len(multi30k_data.trg_lang.vocab), max_length=50  ).to(device)\n",
    "\n",
    "print(encoder)\n",
    "print(decoder)"
   ]
  },
  {
   "cell_type": "code",
   "execution_count": 9,
   "metadata": {},
   "outputs": [],
   "source": [
    "learning_rate = 0.001\n",
    "#encoder_optimizer = optim.Adam(encoder.parameters(), lr=learning_rate)\n",
    "encoder_optimizer = optim.Adam( filter(lambda p: p.requires_grad, encoder.parameters()) , lr=learning_rate)\n",
    "\n",
    "decoder_optimizer = optim.Adam(decoder.parameters(), lr=learning_rate)\n",
    "#criterion = nn.NLLLoss().to(device)\n",
    "criterion = nn.CrossEntropyLoss().to(device)"
   ]
  },
  {
   "cell_type": "code",
   "execution_count": 10,
   "metadata": {},
   "outputs": [],
   "source": [
    "encdecrun = EncodeDecodeRun(encoder,decoder)\n",
    "#a = encdecrun.run_encoder( x )"
   ]
  },
  {
   "cell_type": "code",
   "execution_count": null,
   "metadata": {},
   "outputs": [],
   "source": []
  },
  {
   "cell_type": "code",
   "execution_count": null,
   "metadata": {},
   "outputs": [],
   "source": []
  },
  {
   "cell_type": "code",
   "execution_count": 11,
   "metadata": {},
   "outputs": [],
   "source": [
    "#let us have a smaple run\n",
    "a = encdecrun.run_encoder( x )\n",
    "\n",
    "encoder_optimizer.zero_grad()\n",
    "decoder_optimizer.zero_grad()\n",
    "\n",
    "scores = encdecrun.run_decoder( y[1] )\n",
    "loss = criterion(scores, y[2] )\n",
    "\n",
    "loss.backward()\n",
    "\n",
    "encoder_optimizer.step()\n",
    "decoder_optimizer.step()"
   ]
  },
  {
   "cell_type": "code",
   "execution_count": 12,
   "metadata": {},
   "outputs": [
    {
     "name": "stdout",
     "output_type": "stream",
     "text": [
      "15.612107515335083\n",
      "mean iteration loss 69.13144373130798\n",
      "15.626079082489014\n",
      "mean iteration loss 45.554151527404784\n",
      "16.983951807022095\n",
      "mean iteration loss 30.358322249889373\n",
      "18.070173501968384\n",
      "mean iteration loss 17.951374409914017\n",
      "17.132532596588135\n",
      "mean iteration loss 10.057482401520014\n"
     ]
    }
   ],
   "source": [
    "avg_loss = []\n",
    "\n",
    "for _ in range(5) :\n",
    "    l = train(encdecrun, encoder_optimizer, decoder_optimizer, criterion, multi30k_data.train_batch(n_data=1000) )\n",
    "    m = np.mean(l)\n",
    "    print(\"mean iteration loss\", m)\n",
    "    avg_loss.append( m )"
   ]
  },
  {
   "cell_type": "code",
   "execution_count": 15,
   "metadata": {},
   "outputs": [
    {
     "data": {
      "text/plain": [
       "[<matplotlib.lines.Line2D at 0x7f57445d0e10>]"
      ]
     },
     "execution_count": 15,
     "metadata": {},
     "output_type": "execute_result"
    },
    {
     "data": {
      "image/png": "[encoded data removed]",
      "text/plain": [
       "<Figure size 432x288 with 1 Axes>"
      ]
     },
     "metadata": {},
     "output_type": "display_data"
    }
   ],
   "source": [
    "plt.plot(avg_loss)\n",
    "#plt.plot(j)"
   ]
  },
  {
   "cell_type": "code",
   "execution_count": 88,
   "metadata": {},
   "outputs": [],
   "source": [
    "#j = [ np.mean(l[i:i+100]) for i in range(200) ]"
   ]
  },
  {
   "cell_type": "code",
   "execution_count": 20,
   "metadata": {},
   "outputs": [
    {
     "name": "stdout",
     "output_type": "stream",
     "text": [
      "<sos> Three dogs playing in the snow . <eos>\n",
      "<sos> Three men playing with Frisbee . <eos>\n",
      "0.07751502105431508\n"
     ]
    },
    {
     "name": "stderr",
     "output_type": "stream",
     "text": [
      "/home/local/SPREADTRUM/bipin.vijayasenan/anaconda3/lib/python3.6/site-packages/torchtext/data/field.py:322: UserWarning: volatile was removed and now has no effect. Use `with torch.no_grad():` instead.\n",
      "  return Variable(arr, volatile=not train)\n"
     ]
    }
   ],
   "source": [
    "from torchtext.data import Field\n",
    "from nltk.translate.bleu_score import sentence_bleu\n",
    "from nltk.translate.bleu_score import SmoothingFunction\n",
    "\n",
    "#train_iter = multi30k_data.val_batch()\n",
    "#for _ in range(100) : next(train_iter)\n",
    "inp, out = next(train_iter)\n",
    "#inp = inp.squeeze()\n",
    "out = out.squeeze()\n",
    "target_output   = \" \".join([ multi30k_data.trg_lang.vocab.itos[i] for i in out ]) \n",
    "tout = translate( encdecrun, inp )\n",
    "\n",
    "output_sentence = \" \".join([ multi30k_data.trg_lang.vocab.itos[i] for i in tout ])\n",
    "print(target_output)\n",
    "#print(multi30k_data__.trg_lines[i])\n",
    "print(output_sentence)\n",
    "print( sentence_bleu( [target_output.split(' ')], output_sentence.split(' ') , smoothing_function=SmoothingFunction().method1) )"
   ]
  },
  {
   "cell_type": "code",
   "execution_count": 13,
   "metadata": {},
   "outputs": [],
   "source": [
    "#debug_list = []\n",
    "def translate( encdecrun, x ) :\n",
    "    debug_list = [] #XXX\n",
    "    x = x.to(device)\n",
    "    \n",
    "    out = encdecrun.run_encoder( x )\n",
    "    \n",
    "    #first input is SOS\n",
    "    next_word = x[0][0].view(1,1,1)\n",
    "    predicted_target = []\n",
    "    for i in range(25) :        \n",
    "        scores = encdecrun.run_decoder( next_word )\n",
    "        predicted_target.append( next_word.item() )\n",
    "        if next_word.item() == 3 : #in_data.trg_lang.EOS_token :\n",
    "            break\n",
    "        #now we make the next_word from current_word\n",
    "        v, next_word = scores.topk(1) #return value and index\n",
    "\n",
    "        \n",
    "    return predicted_target    \n",
    "    #return \" \".join([ in_data.trg_lang.itos[i] for i in predicted_target ])"
   ]
  },
  {
   "cell_type": "code",
   "execution_count": 14,
   "metadata": {},
   "outputs": [],
   "source": [
    "def eval_val(encdecrun, test_iter ) :\n",
    "    #test_iter = multi30k_data.train_batch()\n",
    "    bleu_score = 0\n",
    "    count = 0\n",
    "    for inp, out in test_iter :\n",
    "        target_output   = \" \".join([ multi30k_data.trg_lang.vocab.itos[i] for i in out ]) \n",
    "        tout = translate( encdecrun, inp )\n",
    "        output_sentence = \" \".join([ multi30k_data.trg_lang.vocab.itos[i] for i in tout ])\n",
    "        bleu_score += sentence_bleu( [target_output.split(' ')], output_sentence.split(' '), \n",
    "                                    smoothing_function=SmoothingFunction().method1)\n",
    "        count += 1\n",
    "    return bleu_score/float(count)"
   ]
  },
  {
   "cell_type": "code",
   "execution_count": 95,
   "metadata": {},
   "outputs": [
    {
     "data": {
      "text/plain": [
       "0.08294689595420113"
      ]
     },
     "execution_count": 95,
     "metadata": {},
     "output_type": "execute_result"
    }
   ],
   "source": [
    "eval_val(encdecrun, multi30k_data.val_batch())\n",
    "#Training on trianing set (first 1000), eval on val set\n",
    "# RNN Encoder Decoder\n",
    "#5 iter : 0.04284566223317566\n",
    "\n",
    "#Training on trianing set (first 1000), eval on val set\n",
    "# SimpleEncoder RNNDecoder\n",
    "#5 iter : 0.08086874335565286\n",
    "\n",
    "#0 iter : 0.007594141420805346 ( No training; random init )\n",
    "#1 iter (2K) : 0.08813359634828569\n",
    "#1 iter (20K): 0.12253828240795721\n",
    "#20 iter (20K) : "
   ]
  },
  {
   "cell_type": "code",
   "execution_count": 94,
   "metadata": {},
   "outputs": [
    {
     "data": {
      "text/plain": [
       "0.8642076513814061"
      ]
     },
     "execution_count": 94,
     "metadata": {},
     "output_type": "execute_result"
    }
   ],
   "source": [
    "eval_val(encdecrun, multi30k_data.train_batch(n_data=1000))"
   ]
  },
  {
   "cell_type": "code",
   "execution_count": 86,
   "metadata": {},
   "outputs": [],
   "source": [
    "#EncoderRNN, AttnDecoderRNN\n",
    "#torch.save(encoder.state_dict(), 'encoder.pt')\n",
    "#torch.save(decoder.state_dict(), 'decoder.pt')"
   ]
  },
  {
   "cell_type": "code",
   "execution_count": null,
   "metadata": {},
   "outputs": [],
   "source": []
  }
 ],
 "metadata": {
  "kernelspec": {
   "display_name": "Python 3",
   "language": "python",
   "name": "python3"
  },
  "language_info": {
   "codemirror_mode": {
    "name": "ipython",
    "version": 3
   },
   "file_extension": ".py",
   "mimetype": "text/x-python",
   "name": "python",
   "nbconvert_exporter": "python",
   "pygments_lexer": "ipython3",
   "version": "3.6.5"
  }
 },
 "nbformat": 4,
 "nbformat_minor": 2
}
